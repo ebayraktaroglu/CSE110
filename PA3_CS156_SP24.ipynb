{
  "nbformat": 4,
  "nbformat_minor": 0,
  "metadata": {
    "colab": {
      "provenance": [],
      "collapsed_sections": [
        "SgNZTjrhcHa0"
      ],
      "toc_visible": true,
      "gpuType": "T4",
      "include_colab_link": true
    },
    "kernelspec": {
      "name": "python3",
      "display_name": "Python 3"
    },
    "accelerator": "GPU"
  },
  "cells": [
    {
      "cell_type": "markdown",
      "metadata": {
        "id": "view-in-github",
        "colab_type": "text"
      },
      "source": [
        "<a href=\"https://colab.research.google.com/github/ebayraktaroglu/CSE110/blob/main/PA3_CS156_SP24.ipynb\" target=\"_parent\"><img src=\"https://colab.research.google.com/assets/colab-badge.svg\" alt=\"Open In Colab\"/></a>"
      ]
    },
    {
      "cell_type": "markdown",
      "metadata": {
        "id": "SgNZTjrhcHa0"
      },
      "source": [
        "# CSE 156:  NLP UCSD, Programming Assignment 3\n",
        "## Text Decoding From GPT-2 using Beam Search (40 points)\n",
        "### <font color='blue'> Due: Wednesday, May 29, at  10pm </font>\n",
        "\n",
        "###### IMPORTANT: After copying this notebook to your Google Drive, paste a link to it below. To get a publicly-accessible link, click the *Share* button at the top right, then click \"Get shareable link\" and copy the link.\n",
        "#### <font color=\"red\">Link: https://colab.research.google.com/drive/1-Hvw5F6BT1nkh4GUWymDjbEUrMWNHTxh?usp=sharing  </font>\n",
        "\n",
        "\n",
        "\n",
        "---\n",
        "**Notes:**\n",
        "\n",
        "Make sure to save the notebook as you go along.\n",
        "\n",
        "Submission instructions are located at the bottom of the notebook."
      ]
    },
    {
      "cell_type": "markdown",
      "metadata": {
        "id": "d23zfO_ALKeB"
      },
      "source": [
        "# Part 0: Setup"
      ]
    },
    {
      "cell_type": "markdown",
      "metadata": {
        "id": "N25dvF4jvYoy"
      },
      "source": [
        "## Adding a hardware accelerator\n",
        "Go to the menu and add a GPU as follows:\n",
        "\n",
        "`Edit > Notebook Settings > Hardware accelerator > (GPU)`\n",
        "\n",
        "Run the following cell to confirm that the GPU is detected."
      ]
    },
    {
      "cell_type": "code",
      "metadata": {
        "id": "edOh9ooiIW1B",
        "colab": {
          "base_uri": "https://localhost:8080/"
        },
        "outputId": "b7ecaff5-f76b-453d-acbe-62ac4d9c3eae"
      },
      "source": [
        "import torch\n",
        "\n",
        "# Confirm that the GPU is detected\n",
        "assert torch.cuda.is_available()\n",
        "\n",
        "# Get the GPU device name.\n",
        "device_name = torch.cuda.get_device_name()\n",
        "n_gpu = torch.cuda.device_count()\n",
        "print(f\"Found device: {device_name}, n_gpu: {n_gpu}\")"
      ],
      "execution_count": null,
      "outputs": [
        {
          "output_type": "stream",
          "name": "stdout",
          "text": [
            "Found device: Tesla T4, n_gpu: 1\n"
          ]
        }
      ]
    },
    {
      "cell_type": "markdown",
      "metadata": {
        "id": "xrvH7xx9LnMC"
      },
      "source": [
        "## Installing Hugging Face's Transformers and Additional Libraries\n",
        "We will use Hugging Face's Transformers (https://github.com/huggingface/transformers).\n",
        "\n",
        "Run the following cell to install Hugging Face's Transformers library and some other useful tools."
      ]
    },
    {
      "cell_type": "code",
      "metadata": {
        "id": "gtqS2e5fxpqa",
        "colab": {
          "base_uri": "https://localhost:8080/"
        },
        "outputId": "6217e4b5-82ce-4d78-805d-b72113bdfe4e"
      },
      "source": [
        "!pip uninstall -q transformers==4.17.0  rich[jupyter]\n",
        "!pip install -q transformers==4.17.0  rich[jupyter]"
      ],
      "execution_count": null,
      "outputs": [
        {
          "output_type": "stream",
          "name": "stdout",
          "text": [
            "Proceed (Y/n)? y\n",
            "Proceed (Y/n)? y\n"
          ]
        }
      ]
    },
    {
      "cell_type": "markdown",
      "source": [
        "# Part 1. Beam Search\n",
        "We are going to explore decoding from a pretrained GPT-2 model using beam search. Run the below cell to set up some beam search utilities."
      ],
      "metadata": {
        "id": "sa5Q_y4huAUm"
      }
    },
    {
      "cell_type": "code",
      "source": [
        "from transformers import GPT2LMHeadModel, GPT2Tokenizer\n",
        "\n",
        "tokenizer = GPT2Tokenizer.from_pretrained(\"gpt2\")\n",
        "model = GPT2LMHeadModel.from_pretrained(\"gpt2\", pad_token_id=tokenizer.eos_token_id)\n",
        "\n",
        "# Beam Search\n",
        "\n",
        "def init_beam_search(model, input_ids, num_beams):\n",
        "    assert len(input_ids.shape) == 2\n",
        "    beam_scores = torch.zeros(num_beams, dtype=torch.float32, device=model.device)\n",
        "    beam_scores[1:] = -1e9 # Break ties in first round.\n",
        "    new_input_ids = input_ids.repeat_interleave(num_beams, dim=0).to(model.device)\n",
        "    return new_input_ids, beam_scores\n",
        "\n",
        "\n",
        "def run_beam_search_(model, tokenizer, input_text, num_beams=5, num_decode_steps=10, score_processors=[], to_cpu=True):\n",
        "\n",
        "    input_ids = tokenizer.encode(input_text, return_tensors='pt')\n",
        "\n",
        "    input_ids, beam_scores = init_beam_search(model, input_ids, num_beams)\n",
        "\n",
        "    token_scores = beam_scores.clone().view(num_beams, 1)\n",
        "\n",
        "    model_kwargs = {}\n",
        "    for i in range(num_decode_steps):\n",
        "        model_inputs = model.prepare_inputs_for_generation(input_ids, **model_kwargs)\n",
        "        outputs = model(**model_inputs, return_dict=True)\n",
        "        next_token_logits = outputs.logits[:, -1, :]\n",
        "        vocab_size = next_token_logits.shape[-1]\n",
        "        this_token_scores = torch.log_softmax(next_token_logits, -1)\n",
        "\n",
        "        # Process token scores.\n",
        "        processed_token_scores = this_token_scores\n",
        "        for processor in score_processors:\n",
        "            processed_token_scores = processor(input_ids, processed_token_scores)\n",
        "\n",
        "        # Update beam scores.\n",
        "        next_token_scores = processed_token_scores + beam_scores.unsqueeze(-1)\n",
        "\n",
        "        # Reshape for beam-search.\n",
        "        next_token_scores = next_token_scores.view(num_beams * vocab_size)\n",
        "\n",
        "        # Find top-scoring beams.\n",
        "        next_token_scores, next_tokens = torch.topk(\n",
        "            next_token_scores, num_beams, dim=0, largest=True, sorted=True\n",
        "        )\n",
        "\n",
        "        # Transform tokens since we reshaped earlier.\n",
        "        next_indices = torch.div(next_tokens, vocab_size, rounding_mode=\"floor\") # This is equivalent to `next_tokens // vocab_size`\n",
        "        next_tokens = next_tokens % vocab_size\n",
        "\n",
        "        # Update tokens.\n",
        "        input_ids = torch.cat([input_ids[next_indices, :], next_tokens.unsqueeze(-1)], dim=-1)\n",
        "\n",
        "        # Update beam scores.\n",
        "        beam_scores = next_token_scores\n",
        "\n",
        "        # Update token scores.\n",
        "\n",
        "        # UNCOMMENT: To use original scores instead.\n",
        "        # token_scores = torch.cat([token_scores[next_indices, :], this_token_scores[next_indices, next_tokens].unsqueeze(-1)], dim=-1)\n",
        "        token_scores = torch.cat([token_scores[next_indices, :], processed_token_scores[next_indices, next_tokens].unsqueeze(-1)], dim=-1)\n",
        "\n",
        "        # Update hidden state.\n",
        "        model_kwargs = model._update_model_kwargs_for_generation(outputs, model_kwargs, is_encoder_decoder=False)\n",
        "        model_kwargs[\"past\"] = model._reorder_cache(model_kwargs[\"past\"], next_indices)\n",
        "\n",
        "    def transfer(x):\n",
        "      return x.cpu() if to_cpu else x\n",
        "\n",
        "    return {\n",
        "        \"output_ids\": transfer(input_ids),\n",
        "        \"beam_scores\": transfer(beam_scores),\n",
        "        \"token_scores\": transfer(token_scores)\n",
        "    }\n",
        "\n",
        "\n",
        "def run_beam_search(*args, **kwargs):\n",
        "    with torch.inference_mode():\n",
        "        return run_beam_search_(*args, **kwargs)\n",
        "\n",
        "\n",
        "# Add support for colored printing and plotting.\n",
        "\n",
        "from rich import print as rich_print\n",
        "\n",
        "import numpy as np\n",
        "\n",
        "import matplotlib\n",
        "from matplotlib import pyplot as plt\n",
        "from matplotlib import cm\n",
        "\n",
        "RICH_x = np.linspace(0.0, 1.0, 50)\n",
        "RICH_rgb = (matplotlib.colormaps.get_cmap(plt.get_cmap('RdYlBu'))(RICH_x)[:, :3] * 255).astype(np.int32)[range(5, 45, 5)]\n",
        "\n",
        "\n",
        "def print_with_probs(words, probs, prefix=None):\n",
        "  def fmt(x, p, is_first=False):\n",
        "    ix = int(p * RICH_rgb.shape[0])\n",
        "    r, g, b = RICH_rgb[ix]\n",
        "    if is_first:\n",
        "      return f'[bold rgb(0,0,0) on rgb({r},{g},{b})]{x}'\n",
        "    else:\n",
        "      return f'[bold rgb(0,0,0) on rgb({r},{g},{b})] {x}'\n",
        "  output = []\n",
        "  if prefix is not None:\n",
        "    output.append(prefix)\n",
        "  for i, (x, p) in enumerate(zip(words, probs)):\n",
        "    output.append(fmt(x, p, is_first=i == 0))\n",
        "  rich_print(''.join(output))\n",
        "\n",
        "# DEMO\n",
        "\n",
        "# Show range of colors.\n",
        "\n",
        "for i in range(RICH_rgb.shape[0]):\n",
        "  r, g, b = RICH_rgb[i]\n",
        "  rich_print(f'[bold rgb(0,0,0) on rgb({r},{g},{b})]hello world rgb({r},{g},{b})')\n",
        "\n",
        "# Example with words and probabilities.\n",
        "\n",
        "words = ['the', 'brown', 'fox']\n",
        "probs = [0.14, 0.83, 0.5]\n",
        "print_with_probs(words, probs)"
      ],
      "metadata": {
        "id": "bgUbrB6ht_ch",
        "colab": {
          "base_uri": "https://localhost:8080/",
          "height": 161
        },
        "outputId": "e7734de5-7eb7-41ba-f57d-e32f49900ee1"
      },
      "execution_count": null,
      "outputs": [
        {
          "output_type": "display_data",
          "data": {
            "text/plain": [
              "\u001b[1;38;2;0;0;0;48;2;215;49;39mhello world \u001b[0m\u001b[1;38;2;0;0;0;48;2;215;49;39mrgb\u001b[0m\u001b[1;38;2;0;0;0;48;2;215;49;39m(\u001b[0m\u001b[1;38;2;0;0;0;48;2;215;49;39m215\u001b[0m\u001b[1;38;2;0;0;0;48;2;215;49;39m,\u001b[0m\u001b[1;38;2;0;0;0;48;2;215;49;39m49\u001b[0m\u001b[1;38;2;0;0;0;48;2;215;49;39m,\u001b[0m\u001b[1;38;2;0;0;0;48;2;215;49;39m39\u001b[0m\u001b[1;38;2;0;0;0;48;2;215;49;39m)\u001b[0m\n"
            ],
            "text/html": [
              "<pre style=\"white-space:pre;overflow-x:auto;line-height:normal;font-family:Menlo,'DejaVu Sans Mono',consolas,'Courier New',monospace\"><span style=\"color: #000000; text-decoration-color: #000000; background-color: #d73127; font-weight: bold\">hello world rgb(</span><span style=\"color: #000000; text-decoration-color: #000000; background-color: #d73127; font-weight: bold\">215</span><span style=\"color: #000000; text-decoration-color: #000000; background-color: #d73127; font-weight: bold\">,</span><span style=\"color: #000000; text-decoration-color: #000000; background-color: #d73127; font-weight: bold\">49</span><span style=\"color: #000000; text-decoration-color: #000000; background-color: #d73127; font-weight: bold\">,</span><span style=\"color: #000000; text-decoration-color: #000000; background-color: #d73127; font-weight: bold\">39</span><span style=\"color: #000000; text-decoration-color: #000000; background-color: #d73127; font-weight: bold\">)</span>\n",
              "</pre>\n"
            ]
          },
          "metadata": {}
        },
        {
          "output_type": "display_data",
          "data": {
            "text/plain": [
              "\u001b[1;38;2;0;0;0;48;2;244;111;68mhello world \u001b[0m\u001b[1;38;2;0;0;0;48;2;244;111;68mrgb\u001b[0m\u001b[1;38;2;0;0;0;48;2;244;111;68m(\u001b[0m\u001b[1;38;2;0;0;0;48;2;244;111;68m244\u001b[0m\u001b[1;38;2;0;0;0;48;2;244;111;68m,\u001b[0m\u001b[1;38;2;0;0;0;48;2;244;111;68m111\u001b[0m\u001b[1;38;2;0;0;0;48;2;244;111;68m,\u001b[0m\u001b[1;38;2;0;0;0;48;2;244;111;68m68\u001b[0m\u001b[1;38;2;0;0;0;48;2;244;111;68m)\u001b[0m\n"
            ],
            "text/html": [
              "<pre style=\"white-space:pre;overflow-x:auto;line-height:normal;font-family:Menlo,'DejaVu Sans Mono',consolas,'Courier New',monospace\"><span style=\"color: #000000; text-decoration-color: #000000; background-color: #f46f44; font-weight: bold\">hello world rgb(</span><span style=\"color: #000000; text-decoration-color: #000000; background-color: #f46f44; font-weight: bold\">244</span><span style=\"color: #000000; text-decoration-color: #000000; background-color: #f46f44; font-weight: bold\">,</span><span style=\"color: #000000; text-decoration-color: #000000; background-color: #f46f44; font-weight: bold\">111</span><span style=\"color: #000000; text-decoration-color: #000000; background-color: #f46f44; font-weight: bold\">,</span><span style=\"color: #000000; text-decoration-color: #000000; background-color: #f46f44; font-weight: bold\">68</span><span style=\"color: #000000; text-decoration-color: #000000; background-color: #f46f44; font-weight: bold\">)</span>\n",
              "</pre>\n"
            ]
          },
          "metadata": {}
        },
        {
          "output_type": "display_data",
          "data": {
            "text/plain": [
              "\u001b[1;38;2;0;0;0;48;2;253;176;99mhello world \u001b[0m\u001b[1;38;2;0;0;0;48;2;253;176;99mrgb\u001b[0m\u001b[1;38;2;0;0;0;48;2;253;176;99m(\u001b[0m\u001b[1;38;2;0;0;0;48;2;253;176;99m253\u001b[0m\u001b[1;38;2;0;0;0;48;2;253;176;99m,\u001b[0m\u001b[1;38;2;0;0;0;48;2;253;176;99m176\u001b[0m\u001b[1;38;2;0;0;0;48;2;253;176;99m,\u001b[0m\u001b[1;38;2;0;0;0;48;2;253;176;99m99\u001b[0m\u001b[1;38;2;0;0;0;48;2;253;176;99m)\u001b[0m\n"
            ],
            "text/html": [
              "<pre style=\"white-space:pre;overflow-x:auto;line-height:normal;font-family:Menlo,'DejaVu Sans Mono',consolas,'Courier New',monospace\"><span style=\"color: #000000; text-decoration-color: #000000; background-color: #fdb063; font-weight: bold\">hello world rgb(</span><span style=\"color: #000000; text-decoration-color: #000000; background-color: #fdb063; font-weight: bold\">253</span><span style=\"color: #000000; text-decoration-color: #000000; background-color: #fdb063; font-weight: bold\">,</span><span style=\"color: #000000; text-decoration-color: #000000; background-color: #fdb063; font-weight: bold\">176</span><span style=\"color: #000000; text-decoration-color: #000000; background-color: #fdb063; font-weight: bold\">,</span><span style=\"color: #000000; text-decoration-color: #000000; background-color: #fdb063; font-weight: bold\">99</span><span style=\"color: #000000; text-decoration-color: #000000; background-color: #fdb063; font-weight: bold\">)</span>\n",
              "</pre>\n"
            ]
          },
          "metadata": {}
        },
        {
          "output_type": "display_data",
          "data": {
            "text/plain": [
              "\u001b[1;38;2;0;0;0;48;2;254;226;147mhello world \u001b[0m\u001b[1;38;2;0;0;0;48;2;254;226;147mrgb\u001b[0m\u001b[1;38;2;0;0;0;48;2;254;226;147m(\u001b[0m\u001b[1;38;2;0;0;0;48;2;254;226;147m254\u001b[0m\u001b[1;38;2;0;0;0;48;2;254;226;147m,\u001b[0m\u001b[1;38;2;0;0;0;48;2;254;226;147m226\u001b[0m\u001b[1;38;2;0;0;0;48;2;254;226;147m,\u001b[0m\u001b[1;38;2;0;0;0;48;2;254;226;147m147\u001b[0m\u001b[1;38;2;0;0;0;48;2;254;226;147m)\u001b[0m\n"
            ],
            "text/html": [
              "<pre style=\"white-space:pre;overflow-x:auto;line-height:normal;font-family:Menlo,'DejaVu Sans Mono',consolas,'Courier New',monospace\"><span style=\"color: #000000; text-decoration-color: #000000; background-color: #fee293; font-weight: bold\">hello world rgb(</span><span style=\"color: #000000; text-decoration-color: #000000; background-color: #fee293; font-weight: bold\">254</span><span style=\"color: #000000; text-decoration-color: #000000; background-color: #fee293; font-weight: bold\">,</span><span style=\"color: #000000; text-decoration-color: #000000; background-color: #fee293; font-weight: bold\">226</span><span style=\"color: #000000; text-decoration-color: #000000; background-color: #fee293; font-weight: bold\">,</span><span style=\"color: #000000; text-decoration-color: #000000; background-color: #fee293; font-weight: bold\">147</span><span style=\"color: #000000; text-decoration-color: #000000; background-color: #fee293; font-weight: bold\">)</span>\n",
              "</pre>\n"
            ]
          },
          "metadata": {}
        },
        {
          "output_type": "display_data",
          "data": {
            "text/plain": [
              "\u001b[1;38;2;0;0;0;48;2;251;253;196mhello world \u001b[0m\u001b[1;38;2;0;0;0;48;2;251;253;196mrgb\u001b[0m\u001b[1;38;2;0;0;0;48;2;251;253;196m(\u001b[0m\u001b[1;38;2;0;0;0;48;2;251;253;196m251\u001b[0m\u001b[1;38;2;0;0;0;48;2;251;253;196m,\u001b[0m\u001b[1;38;2;0;0;0;48;2;251;253;196m253\u001b[0m\u001b[1;38;2;0;0;0;48;2;251;253;196m,\u001b[0m\u001b[1;38;2;0;0;0;48;2;251;253;196m196\u001b[0m\u001b[1;38;2;0;0;0;48;2;251;253;196m)\u001b[0m\n"
            ],
            "text/html": [
              "<pre style=\"white-space:pre;overflow-x:auto;line-height:normal;font-family:Menlo,'DejaVu Sans Mono',consolas,'Courier New',monospace\"><span style=\"color: #000000; text-decoration-color: #000000; background-color: #fbfdc4; font-weight: bold\">hello world rgb(</span><span style=\"color: #000000; text-decoration-color: #000000; background-color: #fbfdc4; font-weight: bold\">251</span><span style=\"color: #000000; text-decoration-color: #000000; background-color: #fbfdc4; font-weight: bold\">,</span><span style=\"color: #000000; text-decoration-color: #000000; background-color: #fbfdc4; font-weight: bold\">253</span><span style=\"color: #000000; text-decoration-color: #000000; background-color: #fbfdc4; font-weight: bold\">,</span><span style=\"color: #000000; text-decoration-color: #000000; background-color: #fbfdc4; font-weight: bold\">196</span><span style=\"color: #000000; text-decoration-color: #000000; background-color: #fbfdc4; font-weight: bold\">)</span>\n",
              "</pre>\n"
            ]
          },
          "metadata": {}
        },
        {
          "output_type": "display_data",
          "data": {
            "text/plain": [
              "\u001b[1;38;2;0;0;0;48;2;217;239;246mhello world \u001b[0m\u001b[1;38;2;0;0;0;48;2;217;239;246mrgb\u001b[0m\u001b[1;38;2;0;0;0;48;2;217;239;246m(\u001b[0m\u001b[1;38;2;0;0;0;48;2;217;239;246m217\u001b[0m\u001b[1;38;2;0;0;0;48;2;217;239;246m,\u001b[0m\u001b[1;38;2;0;0;0;48;2;217;239;246m239\u001b[0m\u001b[1;38;2;0;0;0;48;2;217;239;246m,\u001b[0m\u001b[1;38;2;0;0;0;48;2;217;239;246m246\u001b[0m\u001b[1;38;2;0;0;0;48;2;217;239;246m)\u001b[0m\n"
            ],
            "text/html": [
              "<pre style=\"white-space:pre;overflow-x:auto;line-height:normal;font-family:Menlo,'DejaVu Sans Mono',consolas,'Courier New',monospace\"><span style=\"color: #000000; text-decoration-color: #000000; background-color: #d9eff6; font-weight: bold\">hello world rgb(</span><span style=\"color: #000000; text-decoration-color: #000000; background-color: #d9eff6; font-weight: bold\">217</span><span style=\"color: #000000; text-decoration-color: #000000; background-color: #d9eff6; font-weight: bold\">,</span><span style=\"color: #000000; text-decoration-color: #000000; background-color: #d9eff6; font-weight: bold\">239</span><span style=\"color: #000000; text-decoration-color: #000000; background-color: #d9eff6; font-weight: bold\">,</span><span style=\"color: #000000; text-decoration-color: #000000; background-color: #d9eff6; font-weight: bold\">246</span><span style=\"color: #000000; text-decoration-color: #000000; background-color: #d9eff6; font-weight: bold\">)</span>\n",
              "</pre>\n"
            ]
          },
          "metadata": {}
        },
        {
          "output_type": "display_data",
          "data": {
            "text/plain": [
              "\u001b[1;38;2;0;0;0;48;2;163;210;229mhello world \u001b[0m\u001b[1;38;2;0;0;0;48;2;163;210;229mrgb\u001b[0m\u001b[1;38;2;0;0;0;48;2;163;210;229m(\u001b[0m\u001b[1;38;2;0;0;0;48;2;163;210;229m163\u001b[0m\u001b[1;38;2;0;0;0;48;2;163;210;229m,\u001b[0m\u001b[1;38;2;0;0;0;48;2;163;210;229m210\u001b[0m\u001b[1;38;2;0;0;0;48;2;163;210;229m,\u001b[0m\u001b[1;38;2;0;0;0;48;2;163;210;229m229\u001b[0m\u001b[1;38;2;0;0;0;48;2;163;210;229m)\u001b[0m\n"
            ],
            "text/html": [
              "<pre style=\"white-space:pre;overflow-x:auto;line-height:normal;font-family:Menlo,'DejaVu Sans Mono',consolas,'Courier New',monospace\"><span style=\"color: #000000; text-decoration-color: #000000; background-color: #a3d2e5; font-weight: bold\">hello world rgb(</span><span style=\"color: #000000; text-decoration-color: #000000; background-color: #a3d2e5; font-weight: bold\">163</span><span style=\"color: #000000; text-decoration-color: #000000; background-color: #a3d2e5; font-weight: bold\">,</span><span style=\"color: #000000; text-decoration-color: #000000; background-color: #a3d2e5; font-weight: bold\">210</span><span style=\"color: #000000; text-decoration-color: #000000; background-color: #a3d2e5; font-weight: bold\">,</span><span style=\"color: #000000; text-decoration-color: #000000; background-color: #a3d2e5; font-weight: bold\">229</span><span style=\"color: #000000; text-decoration-color: #000000; background-color: #a3d2e5; font-weight: bold\">)</span>\n",
              "</pre>\n"
            ]
          },
          "metadata": {}
        },
        {
          "output_type": "display_data",
          "data": {
            "text/plain": [
              "\u001b[1;38;2;0;0;0;48;2;108;164;204mhello world \u001b[0m\u001b[1;38;2;0;0;0;48;2;108;164;204mrgb\u001b[0m\u001b[1;38;2;0;0;0;48;2;108;164;204m(\u001b[0m\u001b[1;38;2;0;0;0;48;2;108;164;204m108\u001b[0m\u001b[1;38;2;0;0;0;48;2;108;164;204m,\u001b[0m\u001b[1;38;2;0;0;0;48;2;108;164;204m164\u001b[0m\u001b[1;38;2;0;0;0;48;2;108;164;204m,\u001b[0m\u001b[1;38;2;0;0;0;48;2;108;164;204m204\u001b[0m\u001b[1;38;2;0;0;0;48;2;108;164;204m)\u001b[0m\n"
            ],
            "text/html": [
              "<pre style=\"white-space:pre;overflow-x:auto;line-height:normal;font-family:Menlo,'DejaVu Sans Mono',consolas,'Courier New',monospace\"><span style=\"color: #000000; text-decoration-color: #000000; background-color: #6ca4cc; font-weight: bold\">hello world rgb(</span><span style=\"color: #000000; text-decoration-color: #000000; background-color: #6ca4cc; font-weight: bold\">108</span><span style=\"color: #000000; text-decoration-color: #000000; background-color: #6ca4cc; font-weight: bold\">,</span><span style=\"color: #000000; text-decoration-color: #000000; background-color: #6ca4cc; font-weight: bold\">164</span><span style=\"color: #000000; text-decoration-color: #000000; background-color: #6ca4cc; font-weight: bold\">,</span><span style=\"color: #000000; text-decoration-color: #000000; background-color: #6ca4cc; font-weight: bold\">204</span><span style=\"color: #000000; text-decoration-color: #000000; background-color: #6ca4cc; font-weight: bold\">)</span>\n",
              "</pre>\n"
            ]
          },
          "metadata": {}
        },
        {
          "output_type": "display_data",
          "data": {
            "text/plain": [
              "\u001b[1;38;2;0;0;0;48;2;244;111;68mthe\u001b[0m\u001b[1;38;2;0;0;0;48;2;163;210;229m brown\u001b[0m\u001b[1;38;2;0;0;0;48;2;251;253;196m fox\u001b[0m\n"
            ],
            "text/html": [
              "<pre style=\"white-space:pre;overflow-x:auto;line-height:normal;font-family:Menlo,'DejaVu Sans Mono',consolas,'Courier New',monospace\"><span style=\"color: #000000; text-decoration-color: #000000; background-color: #f46f44; font-weight: bold\">the</span><span style=\"color: #000000; text-decoration-color: #000000; background-color: #a3d2e5; font-weight: bold\"> brown</span><span style=\"color: #000000; text-decoration-color: #000000; background-color: #fbfdc4; font-weight: bold\"> fox</span>\n",
              "</pre>\n"
            ]
          },
          "metadata": {}
        }
      ]
    },
    {
      "cell_type": "markdown",
      "source": [
        "## Question 1.1 (5 points)\n",
        "\n",
        "Run the cell below. It produces a sequence of tokens using beam search and the provided prefix."
      ],
      "metadata": {
        "id": "lbieUEZViMJy"
      }
    },
    {
      "cell_type": "code",
      "source": [
        "num_beams = 5\n",
        "num_decode_steps = 10\n",
        "input_text = 'The brown fox jumps'\n",
        "\n",
        "beam_output = run_beam_search(model, tokenizer, input_text, num_beams=num_beams, num_decode_steps=num_decode_steps)\n",
        "for i, tokens in enumerate(beam_output['output_ids']):\n",
        "    score = beam_output['beam_scores'][i]\n",
        "    print(i, round(score.item() / tokens.shape[-1], 3), tokenizer.decode(tokens, skip_special_tokens=True))\n"
      ],
      "metadata": {
        "id": "WccupVHjymFv",
        "colab": {
          "base_uri": "https://localhost:8080/"
        },
        "outputId": "fdcfa6d2-f9d0-494e-c7d6-2046faef3f61"
      },
      "execution_count": null,
      "outputs": [
        {
          "output_type": "stream",
          "name": "stdout",
          "text": [
            "0 -1.106 The brown fox jumps out of the fox's mouth, and the fox\n",
            "1 -1.168 The brown fox jumps out of the fox's cage, and the fox\n",
            "2 -1.182 The brown fox jumps out of the fox's mouth and starts to run\n",
            "3 -1.192 The brown fox jumps out of the fox's mouth and begins to lick\n",
            "4 -1.199 The brown fox jumps out of the fox's mouth and begins to bite\n"
          ]
        }
      ]
    },
    {
      "cell_type": "markdown",
      "source": [
        "To get you more acquainted with the code, let's do a simple exercise first. Write your own code in the cell below to generate 3 tokens with a beam size of 4, and then print out the **third most probable** output sequence found during the search. Use the same prefix as above."
      ],
      "metadata": {
        "id": "t6zN9dbNLBl8"
      }
    },
    {
      "cell_type": "code",
      "source": [
        "input_text = 'The brown fox jumps'\n",
        "\n",
        "num_beams = 4\n",
        "num_decode_steps = 3\n",
        "\n",
        "beam_output = run_beam_search(model, tokenizer, input_text, num_beams=num_beams, num_decode_steps=num_decode_steps)\n",
        "for i, tokens in enumerate(beam_output['output_ids']):\n",
        "    score = beam_output['beam_scores'][i]\n",
        "    if i==2:\n",
        "      print(\"The third most probable sequence:\", tokenizer.decode(tokens, skip_special_tokens=True), \"- Score:\", round(score.item() / tokens.shape[-1], 3))"
      ],
      "metadata": {
        "id": "STizG6yiLqIS",
        "colab": {
          "base_uri": "https://localhost:8080/"
        },
        "outputId": "a7a23eb4-011d-4cb9-92fc-5d1d53ed0631"
      },
      "execution_count": null,
      "outputs": [
        {
          "output_type": "stream",
          "name": "stdout",
          "text": [
            "The third most probable sequence: The brown fox jumps up and down - Score: -0.627\n"
          ]
        }
      ]
    },
    {
      "cell_type": "markdown",
      "source": [
        "## Question 1.2 (5 points)\n",
        "\n",
        "Run the cell below to visualize the probabilities the model assigns for each generated word when using beam search with beam size 1 (i.e., greedy decoding)."
      ],
      "metadata": {
        "id": "15aHJGr8p0mD"
      }
    },
    {
      "cell_type": "code",
      "source": [
        "input_text = 'The brown fox jumps'\n",
        "\n",
        "beam_output = run_beam_search(model, tokenizer, input_text, num_beams=1, num_decode_steps=20)\n",
        "probs = beam_output['token_scores'][0, 1:].exp()\n",
        "output_subwords = [tokenizer.decode(tok, skip_special_tokens=True) for tok in beam_output['output_ids'][0]]\n",
        "\n",
        "print('Visualization with plot:')\n",
        "\n",
        "fig, ax = plt.subplots()\n",
        "plt.plot(range(len(probs)), probs)\n",
        "ax.set_xticks(range(len(probs)))\n",
        "ax.set_xticklabels(output_subwords[-len(probs):], rotation = 45)\n",
        "plt.xlabel('word')\n",
        "plt.ylabel('prob')\n",
        "plt.show()\n",
        "\n",
        "print('Visualization with colored text (red for lower probability, and blue for higher):')\n",
        "\n",
        "print_with_probs(output_subwords[-len(probs):], probs, ' '.join(output_subwords[:-len(probs)]))"
      ],
      "metadata": {
        "id": "lDXNNlktqIUW",
        "colab": {
          "base_uri": "https://localhost:8080/",
          "height": 567
        },
        "outputId": "05e19c36-a759-4bae-8a4c-cf08e8219b59"
      },
      "execution_count": null,
      "outputs": [
        {
          "output_type": "stream",
          "name": "stdout",
          "text": [
            "Visualization with plot:\n"
          ]
        },
        {
          "output_type": "display_data",
          "data": {
            "text/plain": [
              "<Figure size 640x480 with 1 Axes>"
            ],
            "image/png": "[encoded data removed]"
          },
          "metadata": {}
        },
        {
          "output_type": "stream",
          "name": "stdout",
          "text": [
            "Visualization with colored text (red for lower probability, and blue for higher):\n"
          ]
        },
        {
          "output_type": "display_data",
          "data": {
            "text/plain": [
              "The  brown  fox  jumps\u001b[1;38;2;0;0;0;48;2;244;111;68m up\u001b[0m\u001b[1;38;2;0;0;0;48;2;254;226;147m  and\u001b[0m\u001b[1;38;2;0;0;0;48;2;244;111;68m  down\u001b[0m\u001b[1;38;2;0;0;0;48;2;244;111;68m  on\u001b[0m\u001b[1;38;2;0;0;0;48;2;254;226;147m  the\u001b[0m\u001b[1;38;2;0;0;0;48;2;244;111;68m  ground\u001b[0m\u001b[1;38;2;0;0;0;48;2;244;111;68m ,\u001b[0m\u001b[1;38;2;0;0;0;48;2;215;49;39m  and\u001b[0m\u001b[1;38;2;0;0;0;48;2;215;49;39m  then\u001b[0m\u001b[1;38;2;0;0;0;48;2;215;49;39m  he\u001b[0m\u001b[1;38;2;0;0;0;48;2;215;49;39m  jumps\u001b[0m\u001b[1;38;2;0;0;0;48;2;253;176;99m  up\u001b[0m\u001b[1;38;2;0;0;0;48;2;251;253;196m  and\u001b[0m\u001b[1;38;2;0;0;0;48;2;163;210;229m  down\u001b[0m\u001b[1;38;2;0;0;0;48;2;253;176;99m  on\u001b[0m\u001b[1;38;2;0;0;0;48;2;217;239;246m  the\u001b[0m\u001b[1;38;2;0;0;0;48;2;251;253;196m  ground\u001b[0m\u001b[1;38;2;0;0;0;48;2;253;176;99m  \u001b[0m\n",
              "\u001b[1;38;2;0;0;0;48;2;253;176;99magain\u001b[0m\u001b[1;38;2;0;0;0;48;2;251;253;196m .\u001b[0m\u001b[1;38;2;0;0;0;48;2;244;111;68m \u001b[0m\n",
              "\n"
            ],
            "text/html": [
              "<pre style=\"white-space:pre;overflow-x:auto;line-height:normal;font-family:Menlo,'DejaVu Sans Mono',consolas,'Courier New',monospace\">The  brown  fox  jumps<span style=\"color: #000000; text-decoration-color: #000000; background-color: #f46f44; font-weight: bold\"> up</span><span style=\"color: #000000; text-decoration-color: #000000; background-color: #fee293; font-weight: bold\">  and</span><span style=\"color: #000000; text-decoration-color: #000000; background-color: #f46f44; font-weight: bold\">  down  on</span><span style=\"color: #000000; text-decoration-color: #000000; background-color: #fee293; font-weight: bold\">  the</span><span style=\"color: #000000; text-decoration-color: #000000; background-color: #f46f44; font-weight: bold\">  ground ,</span><span style=\"color: #000000; text-decoration-color: #000000; background-color: #d73127; font-weight: bold\">  and  then  he  jumps</span><span style=\"color: #000000; text-decoration-color: #000000; background-color: #fdb063; font-weight: bold\">  up</span><span style=\"color: #000000; text-decoration-color: #000000; background-color: #fbfdc4; font-weight: bold\">  and</span><span style=\"color: #000000; text-decoration-color: #000000; background-color: #a3d2e5; font-weight: bold\">  down</span><span style=\"color: #000000; text-decoration-color: #000000; background-color: #fdb063; font-weight: bold\">  on</span><span style=\"color: #000000; text-decoration-color: #000000; background-color: #d9eff6; font-weight: bold\">  the</span><span style=\"color: #000000; text-decoration-color: #000000; background-color: #fbfdc4; font-weight: bold\">  ground</span><span style=\"color: #000000; text-decoration-color: #000000; background-color: #fdb063; font-weight: bold\">  </span>\n",
              "<span style=\"color: #000000; text-decoration-color: #000000; background-color: #fdb063; font-weight: bold\">again</span><span style=\"color: #000000; text-decoration-color: #000000; background-color: #fbfdc4; font-weight: bold\"> .</span><span style=\"color: #000000; text-decoration-color: #000000; background-color: #f46f44; font-weight: bold\"> </span>\n",
              "\n",
              "</pre>\n"
            ]
          },
          "metadata": {}
        }
      ]
    },
    {
      "cell_type": "markdown",
      "source": [
        "Why does the model assign higher probability to tokens generated later than to tokens generated earlier?"
      ],
      "metadata": {
        "id": "KZq6Zhw0MKuo"
      }
    },
    {
      "cell_type": "markdown",
      "source": [
        "#### <font color=\"red\"> Beam search tends to degenerate after a while. The tokens it produces later on tend to be repeated words or sequences of words, because the beam search has seen those words/sequences before, in the generation. So the probability of these repeated words/sequences increases as the model generates them and keeps increasing when those words/sequences are generated again.</font>\n",
        "\n"
      ],
      "metadata": {
        "id": "lY8G4tJMMGl4"
      }
    },
    {
      "cell_type": "markdown",
      "source": [
        "\n",
        "\n",
        "Run the cell below to visualize the word probabilities when using different beam sizes."
      ],
      "metadata": {
        "id": "Boog4GEBsBCo"
      }
    },
    {
      "cell_type": "code",
      "source": [
        "input_text = 'Once upon a time, in a barn near a farm house,'\n",
        "num_decode_steps = 20\n",
        "model.cuda()\n",
        "\n",
        "beam_size_list = [1, 2, 3, 4, 5]\n",
        "output_list = []\n",
        "probs_list = []\n",
        "for bm in beam_size_list:\n",
        "  beam_output = run_beam_search(model, tokenizer, input_text, num_beams=bm, num_decode_steps=num_decode_steps)\n",
        "  output_list.append(beam_output)\n",
        "  probs = beam_output['token_scores'][0, 1:].exp()\n",
        "  probs_list.append((bm, probs))\n",
        "\n",
        "print('Visualization with plot:')\n",
        "fig, ax = plt.subplots()\n",
        "for bm, probs in probs_list:\n",
        "  plt.plot(range(len(probs)), probs, label=f'beam size = {bm}')\n",
        "plt.xlabel('decode step')\n",
        "plt.ylabel('prob')\n",
        "plt.legend(loc='best')\n",
        "plt.show()\n",
        "\n",
        "print('Model predictions:')\n",
        "for bm, beam_output in zip(beam_size_list, output_list):\n",
        "  tokens = beam_output['output_ids'][0]\n",
        "  print(bm, beam_output['beam_scores'][0].item() / tokens.shape[-1], tokenizer.decode(tokens, skip_special_tokens=True))"
      ],
      "metadata": {
        "id": "heX5mLxe-s-K",
        "colab": {
          "base_uri": "https://localhost:8080/",
          "height": 595
        },
        "outputId": "f6aa6758-8622-4e82-f88e-8d84d0b0685c"
      },
      "execution_count": null,
      "outputs": [
        {
          "output_type": "stream",
          "name": "stdout",
          "text": [
            "Visualization with plot:\n"
          ]
        },
        {
          "output_type": "display_data",
          "data": {
            "text/plain": [
              "<Figure size 640x480 with 1 Axes>"
            ],
            "image/png": "[encoded data removed]"
          },
          "metadata": {}
        },
        {
          "output_type": "stream",
          "name": "stdout",
          "text": [
            "Model predictions:\n",
            "1 -0.9706197796445905 Once upon a time, in a barn near a farm house, a young boy was playing with a stick. He was playing with a stick, and the boy was\n",
            "2 -0.9286185177889738 Once upon a time, in a barn near a farm house, a young boy was playing with a stick. The boy was playing with a stick, and the boy\n",
            "3 -0.9597567933978457 Once upon a time, in a barn near a farm house, a young boy was playing with a stick. The boy, who had been playing with a stick,\n",
            "4 -0.9205130952777285 Once upon a time, in a barn near a farm house, there was a young girl who had been brought up by her mother. She had been brought up by\n",
            "5 -0.9058780092181582 Once upon a time, in a barn near a farm house, there was a man who had been living in the house for a long time. He was a man\n"
          ]
        }
      ]
    },
    {
      "cell_type": "markdown",
      "source": [
        "## Question 1.3 (10 points)\n",
        "\n",
        "Beam search often results in repetition in the predicted tokens. In the following cell we pass a score processor called `WordBlock` to `run_beam_search`. At each time step, it reduces the probability for any previously seen word so that it is not generated again.\n",
        "\n",
        "Run the cell to see how the output of beam search changes with and without using `WordBlock`."
      ],
      "metadata": {
        "id": "uX4P6tTmtJ3Q"
      }
    },
    {
      "cell_type": "code",
      "source": [
        "import collections\n",
        "\n",
        "class WordBlock:\n",
        "    def __call__(self, input_ids, scores):\n",
        "        for batch_idx in range(input_ids.shape[0]):\n",
        "            for x in input_ids[batch_idx].tolist():\n",
        "                scores[batch_idx, x] = -1e9\n",
        "        return scores\n",
        "\n",
        "input_text = 'Once upon a time, in a barn near a farm house,'\n",
        "num_beams = 1\n",
        "\n",
        "print('Beam Search')\n",
        "beam_output = run_beam_search(model, tokenizer, input_text, num_beams=num_beams, num_decode_steps=40, score_processors=[])\n",
        "print(tokenizer.decode(beam_output['output_ids'][0], skip_special_tokens=True))\n",
        "\n",
        "print('Beam Search w/ Word Block')\n",
        "beam_output = run_beam_search(model, tokenizer, input_text, num_beams=num_beams, num_decode_steps=40, score_processors=[WordBlock()])\n",
        "print(tokenizer.decode(beam_output['output_ids'][0], skip_special_tokens=True))\n"
      ],
      "metadata": {
        "id": "yTu_HemeLquc",
        "colab": {
          "base_uri": "https://localhost:8080/"
        },
        "outputId": "fbdc29e1-b513-4913-a8a7-a2b3a72f5b5b"
      },
      "execution_count": null,
      "outputs": [
        {
          "output_type": "stream",
          "name": "stdout",
          "text": [
            "Beam Search\n",
            "Once upon a time, in a barn near a farm house, a young boy was playing with a stick. He was playing with a stick, and the boy was playing with a stick. The boy was playing with a stick, and the boy was playing with a\n",
            "Beam Search w/ Word Block\n",
            "Once upon a time, in a barn near a farm house, the young girl was playing with her father's dog. She had been told that she would be given to him by his wife and he could take care of it for herself if needed; but when they\n"
          ]
        }
      ]
    },
    {
      "cell_type": "markdown",
      "source": [
        "Is `WordBlock` a practical way to prevent repetition in beam search? What (if anything) could go wrong when using `WordBlock`?"
      ],
      "metadata": {
        "id": "BMJ8KVrZSTQz"
      }
    },
    {
      "cell_type": "markdown",
      "source": [
        "#### <font color=\"red\">No, WordBlock is not a practical way to prevent repetition in beam search. The main issue with WordBlock is that when telling a coherent narrative, certain things must be repeated. For example, if there is a recurring character/location/etc, you will want to reuse the name of that character/location/etc multiple times. In the above case,  you might want to repeat the word 'barn' multiple times. Additionally, function words, like \"the,\" \"and,\" \"a,\" \"of,\" etc need to be repeated in the text, and WordBlock might decrease the chance of the words being used. Also, punctuation also is reused a lot in text, but WordBlock might prevent this. The output that WordBlock gave above has some of these issues. The second sentence has an understandability issue where the nouns used in the first sentence are avoided and it doesn't make sense. Also, there is no repetition of punctuation (periods and commas) after the original input, which makes the second sentence somewhat overcomplicated/incoherent.</font>\n",
        "\n"
      ],
      "metadata": {
        "id": "WT0Jv2SBTinm"
      }
    },
    {
      "cell_type": "markdown",
      "source": [
        "## Question 1.4 (20 points)\n",
        "\n",
        "Use the previous `WordBlock` example to write a new score processor called `BeamBlock`. Instead of uni-grams, your implementation should prevent tri-grams from appearing more than once in the sequence.\n",
        "\n",
        "Note: This technique is called \"beam blocking\" and is described [here](https://arxiv.org/pdf/1705.04304.pdf) (section 2.5). Also, for this assignment you do not need to re-normalize your output distribution after masking values, although typically re-normalization is done.\n",
        "\n",
        "Write your code in the indicated section in the below cell."
      ],
      "metadata": {
        "id": "U4937n1-t6l3"
      }
    },
    {
      "cell_type": "code",
      "source": [
        "import collections\n",
        "\n",
        "class BeamBlock:\n",
        "    def __call__(self, input_ids, scores):\n",
        "        for batch_idx in range(input_ids.shape[0]):\n",
        "            for x in input_ids[batch_idx].tolist():\n",
        "                len = input_ids[batch_idx].shape[0]\n",
        "                for y in range(len-3):\n",
        "                    # list of previous tokens\n",
        "                    li = input_ids[batch_idx].tolist()\n",
        "                    # sublist of last three tokens of list if x was chosen\n",
        "                    new_li = li[len-2:len]\n",
        "                    new_li.append(x)\n",
        "                    # if repeated trigram is created by chosing x, make score ~ 0\n",
        "                    if li[y:y+3] == new_li:\n",
        "                        scores[batch_idx, x] = -1e9\n",
        "        return scores\n",
        "\n",
        "input_text = 'Once upon a time, in a barn near a farm house,'\n",
        "num_beams = 1\n",
        "\n",
        "print('Beam Search')\n",
        "beam_output = run_beam_search(model, tokenizer, input_text, num_beams=num_beams, num_decode_steps=40, score_processors=[])\n",
        "print(tokenizer.decode(beam_output['output_ids'][0], skip_special_tokens=True))\n",
        "\n",
        "print('Beam Search w/ Beam Block')\n",
        "beam_output = run_beam_search(model, tokenizer, input_text, num_beams=num_beams, num_decode_steps=40, score_processors=[BeamBlock()])\n",
        "print(tokenizer.decode(beam_output['output_ids'][0], skip_special_tokens=True))\n"
      ],
      "metadata": {
        "id": "PTQUGTWgtuBN",
        "colab": {
          "base_uri": "https://localhost:8080/"
        },
        "outputId": "9a051a70-2fc8-438f-c5c1-3cb1245fb816"
      },
      "execution_count": null,
      "outputs": [
        {
          "output_type": "stream",
          "name": "stdout",
          "text": [
            "Beam Search\n",
            "Once upon a time, in a barn near a farm house, a young boy was playing with a stick. He was playing with a stick, and the boy was playing with a stick. The boy was playing with a stick, and the boy was playing with a\n",
            "Beam Search w/ Beam Block\n",
            "Once upon a time, in a barn near a farm house, a young boy was playing with a stick. He was playing on the stick, and the boy was trying to get a ball. The boy was holding the stick in his hand, and he was trying\n"
          ]
        }
      ]
    },
    {
      "cell_type": "markdown",
      "source": [
        "\n",
        "\n",
        "# <font color=\"blue\"> Submission Instructions</font>\n",
        "\n",
        "1. Click the Save button at the top of the Jupyter Notebook.\n",
        "2. Select Edit -> Clear All Outputs. This will clear all the outputs from all cells (but will keep the content of all cells).\n",
        "3. Select Runtime -> Run All. This will run all the cells in order, and will take several minutes.\n",
        "4. Once you've rerun everything, save a PDF version of your notebook. <font color='blue'> Make sure all your solutions especially the coding parts are displayed in the pdf</font>, it's okay if the provided codes get cut off because lines are not wrapped in code cells).\n",
        "5. Look at the PDF file and make sure all your solutions are there, displayed correctly. The PDF is the only thing your graders will see!\n",
        "6. Submit your PDF on Gradescope.\n",
        "\n",
        "\n",
        "\n",
        "#### <font color=\"blue\"> Acknowledgements</font>\n",
        "This assignment is based on an assignment developed by Mohit Iyyer"
      ],
      "metadata": {
        "id": "72bCEqcNQWyw"
      }
    },
    {
      "cell_type": "code",
      "source": [
        "!jupyter nbconvert /content/drive/My_Drive/Colab_Notebooks/PA3_CS156_SP24.ipynb --to html"
      ],
      "metadata": {
        "colab": {
          "base_uri": "https://localhost:8080/"
        },
        "id": "Dvp7hWtw105M",
        "outputId": "0706fcdb-d0f8-4f1b-8b47-e26fe3218039"
      },
      "execution_count": 6,
      "outputs": [
        {
          "output_type": "stream",
          "name": "stdout",
          "text": [
            "[NbConvertApp] WARNING | pattern '/content/drive/My_Drive/Colab_Notebooks/PA3_CS156_SP24.ipynb' matched no files\n",
            "This application is used to convert notebook files (*.ipynb)\n",
            "        to various other formats.\n",
            "\n",
            "        WARNING: THE COMMANDLINE INTERFACE MAY CHANGE IN FUTURE RELEASES.\n",
            "\n",
            "Options\n",
            "=======\n",
            "The options below are convenience aliases to configurable class-options,\n",
            "as listed in the \"Equivalent to\" description-line of the aliases.\n",
            "To see all configurable class-options for some <cmd>, use:\n",
            "    <cmd> --help-all\n",
            "\n",
            "--debug\n",
            "    set log level to logging.DEBUG (maximize logging output)\n",
            "    Equivalent to: [--Application.log_level=10]\n",
            "--show-config\n",
            "    Show the application's configuration (human-readable format)\n",
            "    Equivalent to: [--Application.show_config=True]\n",
            "--show-config-json\n",
            "    Show the application's configuration (json format)\n",
            "    Equivalent to: [--Application.show_config_json=True]\n",
            "--generate-config\n",
            "    generate default config file\n",
            "    Equivalent to: [--JupyterApp.generate_config=True]\n",
            "-y\n",
            "    Answer yes to any questions instead of prompting.\n",
            "    Equivalent to: [--JupyterApp.answer_yes=True]\n",
            "--execute\n",
            "    Execute the notebook prior to export.\n",
            "    Equivalent to: [--ExecutePreprocessor.enabled=True]\n",
            "--allow-errors\n",
            "    Continue notebook execution even if one of the cells throws an error and include the error message in the cell output (the default behaviour is to abort conversion). This flag is only relevant if '--execute' was specified, too.\n",
            "    Equivalent to: [--ExecutePreprocessor.allow_errors=True]\n",
            "--stdin\n",
            "    read a single notebook file from stdin. Write the resulting notebook with default basename 'notebook.*'\n",
            "    Equivalent to: [--NbConvertApp.from_stdin=True]\n",
            "--stdout\n",
            "    Write notebook output to stdout instead of files.\n",
            "    Equivalent to: [--NbConvertApp.writer_class=StdoutWriter]\n",
            "--inplace\n",
            "    Run nbconvert in place, overwriting the existing notebook (only\n",
            "            relevant when converting to notebook format)\n",
            "    Equivalent to: [--NbConvertApp.use_output_suffix=False --NbConvertApp.export_format=notebook --FilesWriter.build_directory=]\n",
            "--clear-output\n",
            "    Clear output of current file and save in place,\n",
            "            overwriting the existing notebook.\n",
            "    Equivalent to: [--NbConvertApp.use_output_suffix=False --NbConvertApp.export_format=notebook --FilesWriter.build_directory= --ClearOutputPreprocessor.enabled=True]\n",
            "--no-prompt\n",
            "    Exclude input and output prompts from converted document.\n",
            "    Equivalent to: [--TemplateExporter.exclude_input_prompt=True --TemplateExporter.exclude_output_prompt=True]\n",
            "--no-input\n",
            "    Exclude input cells and output prompts from converted document.\n",
            "            This mode is ideal for generating code-free reports.\n",
            "    Equivalent to: [--TemplateExporter.exclude_output_prompt=True --TemplateExporter.exclude_input=True --TemplateExporter.exclude_input_prompt=True]\n",
            "--allow-chromium-download\n",
            "    Whether to allow downloading chromium if no suitable version is found on the system.\n",
            "    Equivalent to: [--WebPDFExporter.allow_chromium_download=True]\n",
            "--disable-chromium-sandbox\n",
            "    Disable chromium security sandbox when converting to PDF..\n",
            "    Equivalent to: [--WebPDFExporter.disable_sandbox=True]\n",
            "--show-input\n",
            "    Shows code input. This flag is only useful for dejavu users.\n",
            "    Equivalent to: [--TemplateExporter.exclude_input=False]\n",
            "--embed-images\n",
            "    Embed the images as base64 dataurls in the output. This flag is only useful for the HTML/WebPDF/Slides exports.\n",
            "    Equivalent to: [--HTMLExporter.embed_images=True]\n",
            "--sanitize-html\n",
            "    Whether the HTML in Markdown cells and cell outputs should be sanitized..\n",
            "    Equivalent to: [--HTMLExporter.sanitize_html=True]\n",
            "--log-level=<Enum>\n",
            "    Set the log level by value or name.\n",
            "    Choices: any of [0, 10, 20, 30, 40, 50, 'DEBUG', 'INFO', 'WARN', 'ERROR', 'CRITICAL']\n",
            "    Default: 30\n",
            "    Equivalent to: [--Application.log_level]\n",
            "--config=<Unicode>\n",
            "    Full path of a config file.\n",
            "    Default: ''\n",
            "    Equivalent to: [--JupyterApp.config_file]\n",
            "--to=<Unicode>\n",
            "    The export format to be used, either one of the built-in formats\n",
            "            ['asciidoc', 'custom', 'html', 'latex', 'markdown', 'notebook', 'pdf', 'python', 'rst', 'script', 'slides', 'webpdf']\n",
            "            or a dotted object name that represents the import path for an\n",
            "            ``Exporter`` class\n",
            "    Default: ''\n",
            "    Equivalent to: [--NbConvertApp.export_format]\n",
            "--template=<Unicode>\n",
            "    Name of the template to use\n",
            "    Default: ''\n",
            "    Equivalent to: [--TemplateExporter.template_name]\n",
            "--template-file=<Unicode>\n",
            "    Name of the template file to use\n",
            "    Default: None\n",
            "    Equivalent to: [--TemplateExporter.template_file]\n",
            "--theme=<Unicode>\n",
            "    Template specific theme(e.g. the name of a JupyterLab CSS theme distributed\n",
            "    as prebuilt extension for the lab template)\n",
            "    Default: 'light'\n",
            "    Equivalent to: [--HTMLExporter.theme]\n",
            "--sanitize_html=<Bool>\n",
            "    Whether the HTML in Markdown cells and cell outputs should be sanitized.This\n",
            "    should be set to True by nbviewer or similar tools.\n",
            "    Default: False\n",
            "    Equivalent to: [--HTMLExporter.sanitize_html]\n",
            "--writer=<DottedObjectName>\n",
            "    Writer class used to write the\n",
            "                                        results of the conversion\n",
            "    Default: 'FilesWriter'\n",
            "    Equivalent to: [--NbConvertApp.writer_class]\n",
            "--post=<DottedOrNone>\n",
            "    PostProcessor class used to write the\n",
            "                                        results of the conversion\n",
            "    Default: ''\n",
            "    Equivalent to: [--NbConvertApp.postprocessor_class]\n",
            "--output=<Unicode>\n",
            "    overwrite base name use for output files.\n",
            "                can only be used when converting one notebook at a time.\n",
            "    Default: ''\n",
            "    Equivalent to: [--NbConvertApp.output_base]\n",
            "--output-dir=<Unicode>\n",
            "    Directory to write output(s) to. Defaults\n",
            "                                  to output to the directory of each notebook. To recover\n",
            "                                  previous default behaviour (outputting to the current\n",
            "                                  working directory) use . as the flag value.\n",
            "    Default: ''\n",
            "    Equivalent to: [--FilesWriter.build_directory]\n",
            "--reveal-prefix=<Unicode>\n",
            "    The URL prefix for reveal.js (version 3.x).\n",
            "            This defaults to the reveal CDN, but can be any url pointing to a copy\n",
            "            of reveal.js.\n",
            "            For speaker notes to work, this must be a relative path to a local\n",
            "            copy of reveal.js: e.g., \"reveal.js\".\n",
            "            If a relative path is given, it must be a subdirectory of the\n",
            "            current directory (from which the server is run).\n",
            "            See the usage documentation\n",
            "            (https://nbconvert.readthedocs.io/en/latest/usage.html#reveal-js-html-slideshow)\n",
            "            for more details.\n",
            "    Default: ''\n",
            "    Equivalent to: [--SlidesExporter.reveal_url_prefix]\n",
            "--nbformat=<Enum>\n",
            "    The nbformat version to write.\n",
            "            Use this to downgrade notebooks.\n",
            "    Choices: any of [1, 2, 3, 4]\n",
            "    Default: 4\n",
            "    Equivalent to: [--NotebookExporter.nbformat_version]\n",
            "\n",
            "Examples\n",
            "--------\n",
            "\n",
            "    The simplest way to use nbconvert is\n",
            "\n",
            "            > jupyter nbconvert mynotebook.ipynb --to html\n",
            "\n",
            "            Options include ['asciidoc', 'custom', 'html', 'latex', 'markdown', 'notebook', 'pdf', 'python', 'rst', 'script', 'slides', 'webpdf'].\n",
            "\n",
            "            > jupyter nbconvert --to latex mynotebook.ipynb\n",
            "\n",
            "            Both HTML and LaTeX support multiple output templates. LaTeX includes\n",
            "            'base', 'article' and 'report'.  HTML includes 'basic', 'lab' and\n",
            "            'classic'. You can specify the flavor of the format used.\n",
            "\n",
            "            > jupyter nbconvert --to html --template lab mynotebook.ipynb\n",
            "\n",
            "            You can also pipe the output to stdout, rather than a file\n",
            "\n",
            "            > jupyter nbconvert mynotebook.ipynb --stdout\n",
            "\n",
            "            PDF is generated via latex\n",
            "\n",
            "            > jupyter nbconvert mynotebook.ipynb --to pdf\n",
            "\n",
            "            You can get (and serve) a Reveal.js-powered slideshow\n",
            "\n",
            "            > jupyter nbconvert myslides.ipynb --to slides --post serve\n",
            "\n",
            "            Multiple notebooks can be given at the command line in a couple of\n",
            "            different ways:\n",
            "\n",
            "            > jupyter nbconvert notebook*.ipynb\n",
            "            > jupyter nbconvert notebook1.ipynb notebook2.ipynb\n",
            "\n",
            "            or you can specify the notebooks list in a config file, containing::\n",
            "\n",
            "                c.NbConvertApp.notebooks = [\"my_notebook.ipynb\"]\n",
            "\n",
            "            > jupyter nbconvert --config mycfg.py\n",
            "\n",
            "To see all available configurables, use `--help-all`.\n",
            "\n"
          ]
        }
      ]
    }
  ]
}